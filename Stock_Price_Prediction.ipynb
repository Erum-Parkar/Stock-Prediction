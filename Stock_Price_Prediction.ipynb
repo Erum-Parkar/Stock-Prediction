{
  "nbformat": 4,
  "nbformat_minor": 0,
  "metadata": {
    "colab": {
      "provenance": []
    },
    "kernelspec": {
      "name": "python3",
      "display_name": "Python 3"
    },
    "language_info": {
      "name": "python"
    }
  },
  "cells": [
    {
      "cell_type": "markdown",
      "source": [
        "###### Libraries"
      ],
      "metadata": {
        "id": "PKZp45lmePsV"
      }
    },
    {
      "cell_type": "code",
      "execution_count": 1,
      "metadata": {
        "id": "zgNhjFGrdVM3"
      },
      "outputs": [],
      "source": [
        "import numpy as np\n",
        "import matplotlib.pyplot as plt\n",
        "plt.style.use('fivethirtyeight')\n",
        "import pandas as pd\n",
        "from sklearn.preprocessing import MinMaxScaler\n",
        "from keras.models import Sequential\n",
        "from keras.layers import Dense, LSTM, Dropout, GRU, Bidirectional\n",
        "from keras.optimizers import SGD\n",
        "import math\n",
        "from sklearn.metrics import mean_squared_error"
      ]
    },
    {
      "cell_type": "markdown",
      "source": [
        "###### Data Reading"
      ],
      "metadata": {
        "id": "1yk4MYTGeJSZ"
      }
    },
    {
      "cell_type": "code",
      "source": [
        "df = pd.read_csv(\"/content/MCD_2006-01-01_to_2018-01-01.csv\", index_col='Date', parse_dates=['Date'])\n",
        "df.head()"
      ],
      "metadata": {
        "colab": {
          "base_uri": "https://localhost:8080/",
          "height": 237
        },
        "id": "IonIls48dpnP",
        "outputId": "ae962694-e7e2-48ff-f48e-119c025d3529"
      },
      "execution_count": 2,
      "outputs": [
        {
          "output_type": "execute_result",
          "data": {
            "text/plain": [
              "             Open   High    Low  Close   Volume Name\n",
              "Date                                                \n",
              "2006-01-03  34.29  34.29  33.20  33.52  9250100  MCD\n",
              "2006-01-04  33.43  33.85  33.42  33.82  5990300  MCD\n",
              "2006-01-05  33.82  34.20  33.73  33.86  6245200  MCD\n",
              "2006-01-06  34.23  34.30  33.81  34.06  5877100  MCD\n",
              "2006-01-09  34.00  34.74  33.99  34.71  4659900  MCD"
            ],
            "text/html": [
              "\n",
              "  <div id=\"df-16e9ff25-0039-4bd3-90c7-15bee8982ec3\">\n",
              "    <div class=\"colab-df-container\">\n",
              "      <div>\n",
              "<style scoped>\n",
              "    .dataframe tbody tr th:only-of-type {\n",
              "        vertical-align: middle;\n",
              "    }\n",
              "\n",
              "    .dataframe tbody tr th {\n",
              "        vertical-align: top;\n",
              "    }\n",
              "\n",
              "    .dataframe thead th {\n",
              "        text-align: right;\n",
              "    }\n",
              "</style>\n",
              "<table border=\"1\" class=\"dataframe\">\n",
              "  <thead>\n",
              "    <tr style=\"text-align: right;\">\n",
              "      <th></th>\n",
              "      <th>Open</th>\n",
              "      <th>High</th>\n",
              "      <th>Low</th>\n",
              "      <th>Close</th>\n",
              "      <th>Volume</th>\n",
              "      <th>Name</th>\n",
              "    </tr>\n",
              "    <tr>\n",
              "      <th>Date</th>\n",
              "      <th></th>\n",
              "      <th></th>\n",
              "      <th></th>\n",
              "      <th></th>\n",
              "      <th></th>\n",
              "      <th></th>\n",
              "    </tr>\n",
              "  </thead>\n",
              "  <tbody>\n",
              "    <tr>\n",
              "      <th>2006-01-03</th>\n",
              "      <td>34.29</td>\n",
              "      <td>34.29</td>\n",
              "      <td>33.20</td>\n",
              "      <td>33.52</td>\n",
              "      <td>9250100</td>\n",
              "      <td>MCD</td>\n",
              "    </tr>\n",
              "    <tr>\n",
              "      <th>2006-01-04</th>\n",
              "      <td>33.43</td>\n",
              "      <td>33.85</td>\n",
              "      <td>33.42</td>\n",
              "      <td>33.82</td>\n",
              "      <td>5990300</td>\n",
              "      <td>MCD</td>\n",
              "    </tr>\n",
              "    <tr>\n",
              "      <th>2006-01-05</th>\n",
              "      <td>33.82</td>\n",
              "      <td>34.20</td>\n",
              "      <td>33.73</td>\n",
              "      <td>33.86</td>\n",
              "      <td>6245200</td>\n",
              "      <td>MCD</td>\n",
              "    </tr>\n",
              "    <tr>\n",
              "      <th>2006-01-06</th>\n",
              "      <td>34.23</td>\n",
              "      <td>34.30</td>\n",
              "      <td>33.81</td>\n",
              "      <td>34.06</td>\n",
              "      <td>5877100</td>\n",
              "      <td>MCD</td>\n",
              "    </tr>\n",
              "    <tr>\n",
              "      <th>2006-01-09</th>\n",
              "      <td>34.00</td>\n",
              "      <td>34.74</td>\n",
              "      <td>33.99</td>\n",
              "      <td>34.71</td>\n",
              "      <td>4659900</td>\n",
              "      <td>MCD</td>\n",
              "    </tr>\n",
              "  </tbody>\n",
              "</table>\n",
              "</div>\n",
              "      <button class=\"colab-df-convert\" onclick=\"convertToInteractive('df-16e9ff25-0039-4bd3-90c7-15bee8982ec3')\"\n",
              "              title=\"Convert this dataframe to an interactive table.\"\n",
              "              style=\"display:none;\">\n",
              "        \n",
              "  <svg xmlns=\"http://www.w3.org/2000/svg\" height=\"24px\"viewBox=\"0 0 24 24\"\n",
              "       width=\"24px\">\n",
              "    <path d=\"M0 0h24v24H0V0z\" fill=\"none\"/>\n",
              "    <path d=\"M18.56 5.44l.94 2.06.94-2.06 2.06-.94-2.06-.94-.94-2.06-.94 2.06-2.06.94zm-11 1L8.5 8.5l.94-2.06 2.06-.94-2.06-.94L8.5 2.5l-.94 2.06-2.06.94zm10 10l.94 2.06.94-2.06 2.06-.94-2.06-.94-.94-2.06-.94 2.06-2.06.94z\"/><path d=\"M17.41 7.96l-1.37-1.37c-.4-.4-.92-.59-1.43-.59-.52 0-1.04.2-1.43.59L10.3 9.45l-7.72 7.72c-.78.78-.78 2.05 0 2.83L4 21.41c.39.39.9.59 1.41.59.51 0 1.02-.2 1.41-.59l7.78-7.78 2.81-2.81c.8-.78.8-2.07 0-2.86zM5.41 20L4 18.59l7.72-7.72 1.47 1.35L5.41 20z\"/>\n",
              "  </svg>\n",
              "      </button>\n",
              "      \n",
              "  <style>\n",
              "    .colab-df-container {\n",
              "      display:flex;\n",
              "      flex-wrap:wrap;\n",
              "      gap: 12px;\n",
              "    }\n",
              "\n",
              "    .colab-df-convert {\n",
              "      background-color: #E8F0FE;\n",
              "      border: none;\n",
              "      border-radius: 50%;\n",
              "      cursor: pointer;\n",
              "      display: none;\n",
              "      fill: #1967D2;\n",
              "      height: 32px;\n",
              "      padding: 0 0 0 0;\n",
              "      width: 32px;\n",
              "    }\n",
              "\n",
              "    .colab-df-convert:hover {\n",
              "      background-color: #E2EBFA;\n",
              "      box-shadow: 0px 1px 2px rgba(60, 64, 67, 0.3), 0px 1px 3px 1px rgba(60, 64, 67, 0.15);\n",
              "      fill: #174EA6;\n",
              "    }\n",
              "\n",
              "    [theme=dark] .colab-df-convert {\n",
              "      background-color: #3B4455;\n",
              "      fill: #D2E3FC;\n",
              "    }\n",
              "\n",
              "    [theme=dark] .colab-df-convert:hover {\n",
              "      background-color: #434B5C;\n",
              "      box-shadow: 0px 1px 3px 1px rgba(0, 0, 0, 0.15);\n",
              "      filter: drop-shadow(0px 1px 2px rgba(0, 0, 0, 0.3));\n",
              "      fill: #FFFFFF;\n",
              "    }\n",
              "  </style>\n",
              "\n",
              "      <script>\n",
              "        const buttonEl =\n",
              "          document.querySelector('#df-16e9ff25-0039-4bd3-90c7-15bee8982ec3 button.colab-df-convert');\n",
              "        buttonEl.style.display =\n",
              "          google.colab.kernel.accessAllowed ? 'block' : 'none';\n",
              "\n",
              "        async function convertToInteractive(key) {\n",
              "          const element = document.querySelector('#df-16e9ff25-0039-4bd3-90c7-15bee8982ec3');\n",
              "          const dataTable =\n",
              "            await google.colab.kernel.invokeFunction('convertToInteractive',\n",
              "                                                     [key], {});\n",
              "          if (!dataTable) return;\n",
              "\n",
              "          const docLinkHtml = 'Like what you see? Visit the ' +\n",
              "            '<a target=\"_blank\" href=https://colab.research.google.com/notebooks/data_table.ipynb>data table notebook</a>'\n",
              "            + ' to learn more about interactive tables.';\n",
              "          element.innerHTML = '';\n",
              "          dataTable['output_type'] = 'display_data';\n",
              "          await google.colab.output.renderOutput(dataTable, element);\n",
              "          const docLink = document.createElement('div');\n",
              "          docLink.innerHTML = docLinkHtml;\n",
              "          element.appendChild(docLink);\n",
              "        }\n",
              "      </script>\n",
              "    </div>\n",
              "  </div>\n",
              "  "
            ]
          },
          "metadata": {},
          "execution_count": 2
        }
      ]
    },
    {
      "cell_type": "markdown",
      "source": [
        "###### Functions"
      ],
      "metadata": {
        "id": "Uis9FIOFd-J9"
      }
    },
    {
      "cell_type": "code",
      "source": [
        "def plot_predictions(test,predicted):\n",
        "    plt.plot(test, color='red',label='Real McDonalds Stock Price')\n",
        "    plt.plot(predicted, color='blue',label='Predicted McDonalds Stock Price')\n",
        "    plt.title('McDonalds Stock Price Prediction')\n",
        "    plt.xlabel('Time')\n",
        "    plt.ylabel('McDonalds Stock Price')\n",
        "    plt.legend()\n",
        "    plt.show()"
      ],
      "metadata": {
        "id": "NqS5ZcmIdkpi"
      },
      "execution_count": 3,
      "outputs": []
    },
    {
      "cell_type": "code",
      "source": [
        "def return_rmse(test,predicted):\n",
        "    rmse = math.sqrt(mean_squared_error(test, predicted))\n",
        "    print(\"The root mean squared error is {}.\".format(rmse))"
      ],
      "metadata": {
        "id": "9TmZqerIdnLm"
      },
      "execution_count": 4,
      "outputs": []
    },
    {
      "cell_type": "markdown",
      "source": [
        "###### Exploratory Data Analysis"
      ],
      "metadata": {
        "id": "XAnYWqV3ekqY"
      }
    },
    {
      "cell_type": "code",
      "source": [
        "df.shape"
      ],
      "metadata": {
        "colab": {
          "base_uri": "https://localhost:8080/"
        },
        "id": "INZNsk4ydsCJ",
        "outputId": "5b61b763-07e7-4b3d-af2f-a77a8fa3fc4c"
      },
      "execution_count": 5,
      "outputs": [
        {
          "output_type": "execute_result",
          "data": {
            "text/plain": [
              "(3020, 6)"
            ]
          },
          "metadata": {},
          "execution_count": 5
        }
      ]
    },
    {
      "cell_type": "code",
      "source": [
        "df.isnull().sum()"
      ],
      "metadata": {
        "colab": {
          "base_uri": "https://localhost:8080/"
        },
        "id": "Z7nJi4_rdxAW",
        "outputId": "e016c225-3e6c-440a-a9bc-a18954ef84ef"
      },
      "execution_count": 6,
      "outputs": [
        {
          "output_type": "execute_result",
          "data": {
            "text/plain": [
              "Open      1\n",
              "High      1\n",
              "Low       0\n",
              "Close     0\n",
              "Volume    0\n",
              "Name      0\n",
              "dtype: int64"
            ]
          },
          "metadata": {},
          "execution_count": 6
        }
      ]
    },
    {
      "cell_type": "code",
      "source": [
        "df['Open'].fillna(method='ffill',inplace=True,axis=0)\n",
        "df['High'].fillna(method='ffill',inplace=True,axis=0)"
      ],
      "metadata": {
        "id": "7Bm2eFfndy1p"
      },
      "execution_count": 7,
      "outputs": []
    },
    {
      "cell_type": "code",
      "source": [
        "training_set = df[:'2016'].iloc[:,1:2].values\n",
        "test_set = df['2017':].iloc[:,1:2].values"
      ],
      "metadata": {
        "id": "CXraZ6cbd0qB"
      },
      "execution_count": 8,
      "outputs": []
    },
    {
      "cell_type": "code",
      "source": [
        "df[\"Open\"][:'2016'].plot(figsize=(16,4),legend=True)\n",
        "df[\"Open\"]['2017':].plot(figsize=(16,4),legend=True)\n",
        "plt.legend(['Training set (Before 2017)','Test set (2017 and beyond)'])\n",
        "plt.title('McDonalds stock price')\n",
        "plt.show()"
      ],
      "metadata": {
        "colab": {
          "base_uri": "https://localhost:8080/",
          "height": 303
        },
        "id": "4_dTnhWnd2tQ",
        "outputId": "9953a101-8ae9-4ba2-b10a-a68fb69bfb80"
      },
      "execution_count": 9,
      "outputs": [
        {
          "output_type": "display_data",
          "data": {
            "text/plain": [
              "<Figure size 1152x288 with 1 Axes>"
            ],
            "image/png": "[encoded data removed]"
          },
          "metadata": {}
        }
      ]
    },
    {
      "cell_type": "code",
      "source": [
        "sc = MinMaxScaler(feature_range=(0,1))\n",
        "training_set_scaled = sc.fit_transform(training_set)"
      ],
      "metadata": {
        "id": "7ru09iQ0d4cH"
      },
      "execution_count": 10,
      "outputs": []
    },
    {
      "cell_type": "code",
      "source": [
        "X_train = []\n",
        "y_train = []\n",
        "for i in range(60,2768):\n",
        "    X_train.append(training_set_scaled[i-60:i,0])\n",
        "    y_train.append(training_set_scaled[i,0])\n",
        "X_train, y_train = np.array(X_train), np.array(y_train)"
      ],
      "metadata": {
        "id": "_Y6i18_6d6EI"
      },
      "execution_count": 11,
      "outputs": []
    },
    {
      "cell_type": "code",
      "source": [
        "X_train = np.reshape(X_train, (X_train.shape[0],X_train.shape[1],1))"
      ],
      "metadata": {
        "id": "xsky4ee4evp1"
      },
      "execution_count": 12,
      "outputs": []
    },
    {
      "cell_type": "markdown",
      "source": [
        "##### Building LSTM Model -- Version 1"
      ],
      "metadata": {
        "id": "TCdUzEbLewTB"
      }
    },
    {
      "cell_type": "code",
      "source": [
        "regressor1 = Sequential()\n",
        "# First LSTM layer with Dropout regularisation\n",
        "regressor1.add(LSTM(units=50, return_sequences=True, input_shape=(X_train.shape[1],1)))\n",
        "regressor1.add(Dropout(0.2))\n",
        "# Second LSTM layer\n",
        "regressor1.add(LSTM(units=50, return_sequences=True))\n",
        "regressor1.add(Dropout(0.2))\n",
        "# Third LSTM layer\n",
        "regressor1.add(LSTM(units=50, return_sequences=True))\n",
        "regressor1.add(Dropout(0.2))\n",
        "# Fourth LSTM layer\n",
        "regressor1.add(LSTM(units=50))\n",
        "regressor1.add(Dropout(0.2))\n",
        "# The output layer\n",
        "regressor1.add(Dense(units=1))"
      ],
      "metadata": {
        "id": "azAVAOOXe_8E"
      },
      "execution_count": 13,
      "outputs": []
    },
    {
      "cell_type": "code",
      "source": [
        "regressor1.summary()"
      ],
      "metadata": {
        "colab": {
          "base_uri": "https://localhost:8080/"
        },
        "id": "JRDRkftAfEwl",
        "outputId": "90d89577-ae79-4739-8788-71bb5c28cea2"
      },
      "execution_count": 14,
      "outputs": [
        {
          "output_type": "stream",
          "name": "stdout",
          "text": [
            "Model: \"sequential\"\n",
            "_________________________________________________________________\n",
            " Layer (type)                Output Shape              Param #   \n",
            "=================================================================\n",
            " lstm (LSTM)                 (None, 60, 50)            10400     \n",
            "                                                                 \n",
            " dropout (Dropout)           (None, 60, 50)            0         \n",
            "                                                                 \n",
            " lstm_1 (LSTM)               (None, 60, 50)            20200     \n",
            "                                                                 \n",
            " dropout_1 (Dropout)         (None, 60, 50)            0         \n",
            "                                                                 \n",
            " lstm_2 (LSTM)               (None, 60, 50)            20200     \n",
            "                                                                 \n",
            " dropout_2 (Dropout)         (None, 60, 50)            0         \n",
            "                                                                 \n",
            " lstm_3 (LSTM)               (None, 50)                20200     \n",
            "                                                                 \n",
            " dropout_3 (Dropout)         (None, 50)                0         \n",
            "                                                                 \n",
            " dense (Dense)               (None, 1)                 51        \n",
            "                                                                 \n",
            "=================================================================\n",
            "Total params: 71,051\n",
            "Trainable params: 71,051\n",
            "Non-trainable params: 0\n",
            "_________________________________________________________________\n"
          ]
        }
      ]
    },
    {
      "cell_type": "code",
      "source": [
        "regressor1.compile(optimizer='rmsprop',loss='mean_squared_error')"
      ],
      "metadata": {
        "id": "FunzoCv7fHAI"
      },
      "execution_count": 15,
      "outputs": []
    },
    {
      "cell_type": "code",
      "source": [
        "regressor1.fit(X_train,y_train,epochs=50,batch_size=32)"
      ],
      "metadata": {
        "colab": {
          "base_uri": "https://localhost:8080/"
        },
        "id": "s2or1PpgfJBW",
        "outputId": "fa781b11-8cc1-4df4-cf6c-f6bcf02adbac"
      },
      "execution_count": 16,
      "outputs": [
        {
          "output_type": "stream",
          "name": "stdout",
          "text": [
            "Epoch 1/50\n",
            "85/85 [==============================] - 15s 101ms/step - loss: 0.0175\n",
            "Epoch 2/50\n",
            "85/85 [==============================] - 8s 100ms/step - loss: 0.0077\n",
            "Epoch 3/50\n",
            "85/85 [==============================] - 8s 100ms/step - loss: 0.0065\n",
            "Epoch 4/50\n",
            "85/85 [==============================] - 9s 103ms/step - loss: 0.0053\n",
            "Epoch 5/50\n",
            "85/85 [==============================] - 9s 101ms/step - loss: 0.0048\n",
            "Epoch 6/50\n",
            "85/85 [==============================] - 9s 101ms/step - loss: 0.0040\n",
            "Epoch 7/50\n",
            "85/85 [==============================] - 9s 102ms/step - loss: 0.0037\n",
            "Epoch 8/50\n",
            "85/85 [==============================] - 9s 102ms/step - loss: 0.0034\n",
            "Epoch 9/50\n",
            "85/85 [==============================] - 8s 100ms/step - loss: 0.0034\n",
            "Epoch 10/50\n",
            "85/85 [==============================] - 9s 102ms/step - loss: 0.0030\n",
            "Epoch 11/50\n",
            "85/85 [==============================] - 9s 104ms/step - loss: 0.0028\n",
            "Epoch 12/50\n",
            "85/85 [==============================] - 9s 103ms/step - loss: 0.0028\n",
            "Epoch 13/50\n",
            "85/85 [==============================] - 9s 101ms/step - loss: 0.0027\n",
            "Epoch 14/50\n",
            "85/85 [==============================] - 9s 100ms/step - loss: 0.0025\n",
            "Epoch 15/50\n",
            "85/85 [==============================] - 9s 102ms/step - loss: 0.0024\n",
            "Epoch 16/50\n",
            "85/85 [==============================] - 9s 102ms/step - loss: 0.0023\n",
            "Epoch 17/50\n",
            "85/85 [==============================] - 9s 101ms/step - loss: 0.0022\n",
            "Epoch 18/50\n",
            "85/85 [==============================] - 9s 102ms/step - loss: 0.0021\n",
            "Epoch 19/50\n",
            "85/85 [==============================] - 9s 104ms/step - loss: 0.0021\n",
            "Epoch 20/50\n",
            "85/85 [==============================] - 9s 102ms/step - loss: 0.0020\n",
            "Epoch 21/50\n",
            "85/85 [==============================] - 9s 101ms/step - loss: 0.0019\n",
            "Epoch 22/50\n",
            "85/85 [==============================] - 9s 103ms/step - loss: 0.0020\n",
            "Epoch 23/50\n",
            "85/85 [==============================] - 9s 102ms/step - loss: 0.0019\n",
            "Epoch 24/50\n",
            "85/85 [==============================] - 9s 102ms/step - loss: 0.0019\n",
            "Epoch 25/50\n",
            "85/85 [==============================] - 9s 104ms/step - loss: 0.0018\n",
            "Epoch 26/50\n",
            "85/85 [==============================] - 9s 102ms/step - loss: 0.0017\n",
            "Epoch 27/50\n",
            "85/85 [==============================] - 9s 103ms/step - loss: 0.0017\n",
            "Epoch 28/50\n",
            "85/85 [==============================] - 9s 102ms/step - loss: 0.0017\n",
            "Epoch 29/50\n",
            "85/85 [==============================] - 9s 102ms/step - loss: 0.0015\n",
            "Epoch 30/50\n",
            "85/85 [==============================] - 9s 102ms/step - loss: 0.0016\n",
            "Epoch 31/50\n",
            "85/85 [==============================] - 9s 101ms/step - loss: 0.0015\n",
            "Epoch 32/50\n",
            "85/85 [==============================] - 9s 104ms/step - loss: 0.0015\n",
            "Epoch 33/50\n",
            "85/85 [==============================] - 9s 103ms/step - loss: 0.0015\n",
            "Epoch 34/50\n",
            "85/85 [==============================] - 9s 101ms/step - loss: 0.0015\n",
            "Epoch 35/50\n",
            "85/85 [==============================] - 9s 102ms/step - loss: 0.0013\n",
            "Epoch 36/50\n",
            "85/85 [==============================] - 9s 101ms/step - loss: 0.0014\n",
            "Epoch 37/50\n",
            "85/85 [==============================] - 9s 102ms/step - loss: 0.0013\n",
            "Epoch 38/50\n",
            "85/85 [==============================] - 9s 102ms/step - loss: 0.0013\n",
            "Epoch 39/50\n",
            "85/85 [==============================] - 9s 102ms/step - loss: 0.0013\n",
            "Epoch 40/50\n",
            "85/85 [==============================] - 9s 103ms/step - loss: 0.0013\n",
            "Epoch 41/50\n",
            "85/85 [==============================] - 9s 102ms/step - loss: 0.0013\n",
            "Epoch 42/50\n",
            "85/85 [==============================] - 9s 104ms/step - loss: 0.0013\n",
            "Epoch 43/50\n",
            "85/85 [==============================] - 9s 101ms/step - loss: 0.0012\n",
            "Epoch 44/50\n",
            "85/85 [==============================] - 9s 102ms/step - loss: 0.0012\n",
            "Epoch 45/50\n",
            "85/85 [==============================] - 9s 106ms/step - loss: 0.0012\n",
            "Epoch 46/50\n",
            "85/85 [==============================] - 9s 104ms/step - loss: 0.0011\n",
            "Epoch 47/50\n",
            "85/85 [==============================] - 9s 101ms/step - loss: 0.0012\n",
            "Epoch 48/50\n",
            "85/85 [==============================] - 8s 99ms/step - loss: 0.0012\n",
            "Epoch 49/50\n",
            "85/85 [==============================] - 9s 100ms/step - loss: 0.0011\n",
            "Epoch 50/50\n",
            "85/85 [==============================] - 8s 100ms/step - loss: 0.0012\n"
          ]
        },
        {
          "output_type": "execute_result",
          "data": {
            "text/plain": [
              "<keras.callbacks.History at 0x7f5663959040>"
            ]
          },
          "metadata": {},
          "execution_count": 16
        }
      ]
    },
    {
      "cell_type": "markdown",
      "source": [
        "###### Test the model"
      ],
      "metadata": {
        "id": "PJSosfWhfMOr"
      }
    },
    {
      "cell_type": "code",
      "source": [
        "dataset_total = pd.concat((df[\"Open\"][:'2016'],df[\"Open\"]['2017':]),axis=0)\n",
        "inputs = dataset_total[len(dataset_total)-len(test_set) - 60:].values\n",
        "inputs = inputs.reshape(-1,1)\n",
        "inputs  = sc.transform(inputs)"
      ],
      "metadata": {
        "id": "WOVwTpd1fRwX"
      },
      "execution_count": 17,
      "outputs": []
    },
    {
      "cell_type": "code",
      "source": [
        "X_test = []\n",
        "for i in range(60,311):\n",
        "    X_test.append(inputs[i-60:i,0])\n",
        "X_test = np.array(X_test)\n",
        "X_test = np.reshape(X_test, (X_test.shape[0],X_test.shape[1],1))\n",
        "predicted_stock_price = regressor1.predict(X_test)\n",
        "predicted_stock_price = sc.inverse_transform(predicted_stock_price)"
      ],
      "metadata": {
        "colab": {
          "base_uri": "https://localhost:8080/"
        },
        "id": "8I_PL5LMfU4O",
        "outputId": "ba48d848-c97e-4cf9-da55-bca48214ec0f"
      },
      "execution_count": 18,
      "outputs": [
        {
          "output_type": "stream",
          "name": "stdout",
          "text": [
            "8/8 [==============================] - 2s 26ms/step\n"
          ]
        }
      ]
    },
    {
      "cell_type": "code",
      "source": [
        "plot_predictions(test_set,predicted_stock_price)"
      ],
      "metadata": {
        "colab": {
          "base_uri": "https://localhost:8080/",
          "height": 325
        },
        "id": "pJ0lTlhKfW7X",
        "outputId": "053d3f9b-a0af-4aec-d79e-03923a573b36"
      },
      "execution_count": 19,
      "outputs": [
        {
          "output_type": "display_data",
          "data": {
            "text/plain": [
              "<Figure size 432x288 with 1 Axes>"
            ],
            "image/png": "[encoded data removed]"
          },
          "metadata": {}
        }
      ]
    },
    {
      "cell_type": "code",
      "source": [
        "return_rmse(test_set,predicted_stock_price)"
      ],
      "metadata": {
        "colab": {
          "base_uri": "https://localhost:8080/"
        },
        "id": "CGB2aHx5fYg1",
        "outputId": "add21444-ec9d-459e-9996-c1128574ebf7"
      },
      "execution_count": 20,
      "outputs": [
        {
          "output_type": "stream",
          "name": "stdout",
          "text": [
            "The root mean squared error is 15.437267543701273.\n"
          ]
        }
      ]
    },
    {
      "cell_type": "markdown",
      "source": [
        "##### Building LSTM Model -- Version 2"
      ],
      "metadata": {
        "id": "mEJHK2v5hgpx"
      }
    },
    {
      "cell_type": "code",
      "source": [
        "regressor2 = Sequential()\n",
        "# First LSTM layer with Dropout regularisation\n",
        "regressor2.add(LSTM(units=50, return_sequences=True, input_shape=(X_train.shape[1],1)))\n",
        "regressor2.add(Dropout(0.2))\n",
        "# Second LSTM layer\n",
        "regressor2.add(LSTM(units=50, return_sequences=True))\n",
        "regressor2.add(Dropout(0.2))\n",
        "# Third LSTM layer\n",
        "regressor2.add(LSTM(units=50, return_sequences=True))\n",
        "regressor2.add(Dropout(0.2))\n",
        "# Fourth LSTM layer\n",
        "regressor2.add(LSTM(units=50))\n",
        "regressor2.add(Dropout(0.2))\n",
        "# The output layer\n",
        "regressor2.add(Dense(units=1))"
      ],
      "metadata": {
        "id": "Dvp1QP-Nhjg9"
      },
      "execution_count": 21,
      "outputs": []
    },
    {
      "cell_type": "code",
      "source": [
        "regressor2.summary()"
      ],
      "metadata": {
        "colab": {
          "base_uri": "https://localhost:8080/"
        },
        "outputId": "0bdcbfe4-7d35-44ee-a8c5-aeafdf6428cb",
        "id": "CQcXDbtjhswn"
      },
      "execution_count": 22,
      "outputs": [
        {
          "output_type": "stream",
          "name": "stdout",
          "text": [
            "Model: \"sequential_1\"\n",
            "_________________________________________________________________\n",
            " Layer (type)                Output Shape              Param #   \n",
            "=================================================================\n",
            " lstm_4 (LSTM)               (None, 60, 50)            10400     \n",
            "                                                                 \n",
            " dropout_4 (Dropout)         (None, 60, 50)            0         \n",
            "                                                                 \n",
            " lstm_5 (LSTM)               (None, 60, 50)            20200     \n",
            "                                                                 \n",
            " dropout_5 (Dropout)         (None, 60, 50)            0         \n",
            "                                                                 \n",
            " lstm_6 (LSTM)               (None, 60, 50)            20200     \n",
            "                                                                 \n",
            " dropout_6 (Dropout)         (None, 60, 50)            0         \n",
            "                                                                 \n",
            " lstm_7 (LSTM)               (None, 50)                20200     \n",
            "                                                                 \n",
            " dropout_7 (Dropout)         (None, 50)                0         \n",
            "                                                                 \n",
            " dense_1 (Dense)             (None, 1)                 51        \n",
            "                                                                 \n",
            "=================================================================\n",
            "Total params: 71,051\n",
            "Trainable params: 71,051\n",
            "Non-trainable params: 0\n",
            "_________________________________________________________________\n"
          ]
        }
      ]
    },
    {
      "cell_type": "code",
      "source": [
        "regressor2.compile(optimizer='rmsprop',loss='mean_squared_error')"
      ],
      "metadata": {
        "id": "OIs9RRlhhswo"
      },
      "execution_count": 23,
      "outputs": []
    },
    {
      "cell_type": "code",
      "source": [
        "regressor2.fit(X_train,y_train,epochs=50,batch_size=72)"
      ],
      "metadata": {
        "colab": {
          "base_uri": "https://localhost:8080/"
        },
        "outputId": "f86283c5-4eae-40bd-84eb-d46f26130cc3",
        "id": "8F2YF9F9hswo"
      },
      "execution_count": 24,
      "outputs": [
        {
          "output_type": "stream",
          "name": "stdout",
          "text": [
            "Epoch 1/50\n",
            "38/38 [==============================] - 11s 126ms/step - loss: 0.0391\n",
            "Epoch 2/50\n",
            "38/38 [==============================] - 5s 128ms/step - loss: 0.0141\n",
            "Epoch 3/50\n",
            "38/38 [==============================] - 5s 129ms/step - loss: 0.0110\n",
            "Epoch 4/50\n",
            "38/38 [==============================] - 5s 129ms/step - loss: 0.0085\n",
            "Epoch 5/50\n",
            "38/38 [==============================] - 5s 129ms/step - loss: 0.0087\n",
            "Epoch 6/50\n",
            "38/38 [==============================] - 5s 134ms/step - loss: 0.0063\n",
            "Epoch 7/50\n",
            "38/38 [==============================] - 5s 131ms/step - loss: 0.0060\n",
            "Epoch 8/50\n",
            "38/38 [==============================] - 5s 128ms/step - loss: 0.0061\n",
            "Epoch 9/50\n",
            "38/38 [==============================] - 5s 129ms/step - loss: 0.0052\n",
            "Epoch 10/50\n",
            "38/38 [==============================] - 5s 128ms/step - loss: 0.0051\n",
            "Epoch 11/50\n",
            "38/38 [==============================] - 5s 127ms/step - loss: 0.0046\n",
            "Epoch 12/50\n",
            "38/38 [==============================] - 5s 128ms/step - loss: 0.0042\n",
            "Epoch 13/50\n",
            "38/38 [==============================] - 5s 129ms/step - loss: 0.0043\n",
            "Epoch 14/50\n",
            "38/38 [==============================] - 5s 129ms/step - loss: 0.0039\n",
            "Epoch 15/50\n",
            "38/38 [==============================] - 5s 131ms/step - loss: 0.0037\n",
            "Epoch 16/50\n",
            "38/38 [==============================] - 5s 130ms/step - loss: 0.0036\n",
            "Epoch 17/50\n",
            "38/38 [==============================] - 5s 130ms/step - loss: 0.0038\n",
            "Epoch 18/50\n",
            "38/38 [==============================] - 5s 133ms/step - loss: 0.0033\n",
            "Epoch 19/50\n",
            "38/38 [==============================] - 5s 130ms/step - loss: 0.0033\n",
            "Epoch 20/50\n",
            "38/38 [==============================] - 5s 130ms/step - loss: 0.0032\n",
            "Epoch 21/50\n",
            "38/38 [==============================] - 5s 134ms/step - loss: 0.0031\n",
            "Epoch 22/50\n",
            "38/38 [==============================] - 5s 135ms/step - loss: 0.0030\n",
            "Epoch 23/50\n",
            "38/38 [==============================] - 5s 132ms/step - loss: 0.0029\n",
            "Epoch 24/50\n",
            "38/38 [==============================] - 5s 137ms/step - loss: 0.0024\n",
            "Epoch 25/50\n",
            "38/38 [==============================] - 5s 133ms/step - loss: 0.0026\n",
            "Epoch 26/50\n",
            "38/38 [==============================] - 5s 130ms/step - loss: 0.0026\n",
            "Epoch 27/50\n",
            "38/38 [==============================] - 5s 134ms/step - loss: 0.0028\n",
            "Epoch 28/50\n",
            "38/38 [==============================] - 5s 135ms/step - loss: 0.0025\n",
            "Epoch 29/50\n",
            "38/38 [==============================] - 5s 132ms/step - loss: 0.0023\n",
            "Epoch 30/50\n",
            "38/38 [==============================] - 5s 138ms/step - loss: 0.0026\n",
            "Epoch 31/50\n",
            "38/38 [==============================] - 5s 137ms/step - loss: 0.0023\n",
            "Epoch 32/50\n",
            "38/38 [==============================] - 5s 131ms/step - loss: 0.0027\n",
            "Epoch 33/50\n",
            "38/38 [==============================] - 5s 130ms/step - loss: 0.0021\n",
            "Epoch 34/50\n",
            "38/38 [==============================] - 5s 125ms/step - loss: 0.0023\n",
            "Epoch 35/50\n",
            "38/38 [==============================] - 5s 128ms/step - loss: 0.0023\n",
            "Epoch 36/50\n",
            "38/38 [==============================] - 5s 128ms/step - loss: 0.0023\n",
            "Epoch 37/50\n",
            "38/38 [==============================] - 5s 125ms/step - loss: 0.0022\n",
            "Epoch 38/50\n",
            "38/38 [==============================] - 5s 124ms/step - loss: 0.0020\n",
            "Epoch 39/50\n",
            "38/38 [==============================] - 5s 126ms/step - loss: 0.0021\n",
            "Epoch 40/50\n",
            "38/38 [==============================] - 5s 127ms/step - loss: 0.0020\n",
            "Epoch 41/50\n",
            "38/38 [==============================] - 5s 127ms/step - loss: 0.0020\n",
            "Epoch 42/50\n",
            "38/38 [==============================] - 5s 130ms/step - loss: 0.0020\n",
            "Epoch 43/50\n",
            "38/38 [==============================] - 5s 134ms/step - loss: 0.0020\n",
            "Epoch 44/50\n",
            "38/38 [==============================] - 5s 128ms/step - loss: 0.0019\n",
            "Epoch 45/50\n",
            "38/38 [==============================] - 5s 128ms/step - loss: 0.0018\n",
            "Epoch 46/50\n",
            "38/38 [==============================] - 5s 126ms/step - loss: 0.0018\n",
            "Epoch 47/50\n",
            "38/38 [==============================] - 5s 125ms/step - loss: 0.0018\n",
            "Epoch 48/50\n",
            "38/38 [==============================] - 5s 127ms/step - loss: 0.0018\n",
            "Epoch 49/50\n",
            "38/38 [==============================] - 5s 125ms/step - loss: 0.0017\n",
            "Epoch 50/50\n",
            "38/38 [==============================] - 5s 124ms/step - loss: 0.0017\n"
          ]
        },
        {
          "output_type": "execute_result",
          "data": {
            "text/plain": [
              "<keras.callbacks.History at 0x7f565e6cf280>"
            ]
          },
          "metadata": {},
          "execution_count": 24
        }
      ]
    },
    {
      "cell_type": "markdown",
      "source": [
        "###### Test the model"
      ],
      "metadata": {
        "id": "Lvj3L7Uhhswo"
      }
    },
    {
      "cell_type": "code",
      "source": [
        "dataset_total = pd.concat((df[\"Open\"][:'2016'],df[\"Open\"]['2017':]),axis=0)\n",
        "inputs = dataset_total[len(dataset_total)-len(test_set) - 60:].values\n",
        "inputs = inputs.reshape(-1,1)\n",
        "inputs  = sc.transform(inputs)"
      ],
      "metadata": {
        "id": "CuLI3t5Shswp"
      },
      "execution_count": 25,
      "outputs": []
    },
    {
      "cell_type": "code",
      "source": [
        "X_test = []\n",
        "for i in range(60,311):\n",
        "    X_test.append(inputs[i-60:i,0])\n",
        "X_test = np.array(X_test)\n",
        "X_test = np.reshape(X_test, (X_test.shape[0],X_test.shape[1],1))\n",
        "predicted_stock_price2 = regressor2.predict(X_test)\n",
        "predicted_stock_price2 = sc.inverse_transform(predicted_stock_price2)"
      ],
      "metadata": {
        "colab": {
          "base_uri": "https://localhost:8080/"
        },
        "outputId": "01fecd07-1eb7-4e6a-f6aa-e2637e8e4a77",
        "id": "cRvsXU-8hswp"
      },
      "execution_count": 26,
      "outputs": [
        {
          "output_type": "stream",
          "name": "stdout",
          "text": [
            "8/8 [==============================] - 2s 27ms/step\n"
          ]
        }
      ]
    },
    {
      "cell_type": "code",
      "source": [
        "plot_predictions(test_set,predicted_stock_price2)"
      ],
      "metadata": {
        "colab": {
          "base_uri": "https://localhost:8080/",
          "height": 325
        },
        "outputId": "eaf0edf3-ad9f-4a4b-bcfc-4d4c8ff10226",
        "id": "S639CFPQhswp"
      },
      "execution_count": 27,
      "outputs": [
        {
          "output_type": "display_data",
          "data": {
            "text/plain": [
              "<Figure size 432x288 with 1 Axes>"
            ],
            "image/png": "[encoded data removed]"
          },
          "metadata": {}
        }
      ]
    },
    {
      "cell_type": "code",
      "source": [
        "return_rmse(test_set,predicted_stock_price2)"
      ],
      "metadata": {
        "colab": {
          "base_uri": "https://localhost:8080/"
        },
        "outputId": "dc647276-60db-4811-e1b6-dd2ac9ddbaef",
        "id": "g5V8mnVVhswp"
      },
      "execution_count": 28,
      "outputs": [
        {
          "output_type": "stream",
          "name": "stdout",
          "text": [
            "The root mean squared error is 12.61755040246121.\n"
          ]
        }
      ]
    }
  ]
}